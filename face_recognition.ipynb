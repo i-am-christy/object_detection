{
 "cells": [
  {
   "cell_type": "code",
   "execution_count": 2,
   "id": "dbc87dcf",
   "metadata": {},
   "outputs": [],
   "source": [
    "import cv2 as cv\n",
    "import numpy as np"
   ]
  },
  {
   "cell_type": "code",
   "execution_count": 3,
   "id": "4295fa77",
   "metadata": {},
   "outputs": [],
   "source": [
    "haar_cascade = cv.CascadeClassifier('haar_face.xml')\n",
    "\n",
    "people = [\"Ben Afflek\", \"Elton John\", \"Jerry Seinfield\", \"Madonna\", \"Mindy Kaling\"]\n",
    "\n",
    "#features = np.load(\"features.npy\", allow_pickle=True)\n",
    "#lables = np.load(\"labels.npy\")\n",
    "\n",
    "face_recognizer = cv.face.LBPHFaceRecognizer_create()\n",
    "face_recognizer.read(\"face_recognition_model.yml\")"
   ]
  },
  {
   "cell_type": "code",
   "execution_count": 8,
   "id": "f5a195d5",
   "metadata": {},
   "outputs": [
    {
     "name": "stdout",
     "output_type": "stream",
     "text": [
      "Label: Madonna with a confidence of 72.53901124374153\n"
     ]
    }
   ],
   "source": [
    "img = cv.imread(r\"C:\\Users\\HP\\Desktop\\notebooks\\object_detection\\faces\\val\\mindy_kaling\\1.jpg\")\n",
    "\n",
    "gray = cv.cvtColor(img, cv.COLOR_BGR2GRAY)\n",
    "\n",
    "cv.imshow(\"Unidentified Face\", gray)\n",
    "\n",
    "faces_rect = haar_cascade.detectMultiScale(gray, scaleFactor=1.1, minNeighbors=4)\n",
    "\n",
    "for (x, y, w, h) in faces_rect:\n",
    "    faces_roi = gray[y:y+h, x:x+w]\n",
    "\n",
    "    label, confidence = face_recognizer.predict(faces_roi)\n",
    "    print(f\"Label: {people[label]} with a confidence of {confidence}\")\n",
    "\n",
    "    cv.putText(img, str(people[label]), (20,20), cv.FONT_HERSHEY_COMPLEX, 1.0, (0, 255, 0), thickness=2)\n",
    "    cv.rectangle(img, (x,y), (x+w, y+h), (0, 255, 0), thickness=2)\n",
    "\n",
    "cv.imshow(\"Detected Face\", img)\n",
    "cv.waitKey(10000)\n",
    "cv.destroyAllWindows()\n"
   ]
  },
  {
   "cell_type": "code",
   "execution_count": null,
   "id": "c92b3476",
   "metadata": {},
   "outputs": [],
   "source": []
  }
 ],
 "metadata": {
  "kernelspec": {
   "display_name": "Python 3",
   "language": "python",
   "name": "python3"
  },
  "language_info": {
   "codemirror_mode": {
    "name": "ipython",
    "version": 3
   },
   "file_extension": ".py",
   "mimetype": "text/x-python",
   "name": "python",
   "nbconvert_exporter": "python",
   "pygments_lexer": "ipython3",
   "version": "3.12.1"
  }
 },
 "nbformat": 4,
 "nbformat_minor": 5
}
