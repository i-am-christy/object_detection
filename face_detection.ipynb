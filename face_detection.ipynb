{
 "cells": [
  {
   "cell_type": "code",
   "execution_count": 4,
   "id": "63c06a54",
   "metadata": {},
   "outputs": [],
   "source": [
    "#reading images and vidoes\n",
    "import cv2 as cv\n",
    "\n",
    "#read the image\n",
    "img = cv.imread(\"cat/cat.1.jpg\")\n",
    "\n",
    "#display the image\n",
    "cv.imshow(\"Cat\", img)\n",
    "\n",
    "#delay infinitely for the image to load\n",
    "cv.waitKey(2000)\n",
    "cv.destroyAllWindows()"
   ]
  },
  {
   "cell_type": "code",
   "execution_count": 5,
   "id": "a66ddf78",
   "metadata": {},
   "outputs": [],
   "source": [
    "#resizng and rescaling images\n",
    "def rescaleFrame(frame, scale=0.75):\n",
    "    width = int(frame.shape[1] * scale)\n",
    "    height = int(frame.shape[0] * scale)\n",
    "    dimensions = (width, height)\n",
    "\n",
    "    return cv.resize(frame, dimensions, interpolation=cv.INTER_AREA)"
   ]
  },
  {
   "cell_type": "code",
   "execution_count": 6,
   "id": "cbdb646e",
   "metadata": {},
   "outputs": [],
   "source": [
    "#reading videos\n",
    "capture = cv.VideoCapture(\"video/earth.mp4\")\n",
    "\n",
    "#change resolution of video - this only works for realtime live video\n",
    "def changeRes(width, height):\n",
    "    capture.set(3, width)\n",
    "    capture.set(4, height)\n",
    "    \n",
    "#0 represents the computers webcam, 1 for the camera conneted to the computer\n",
    "\n",
    "#read the video frame by frame\n",
    "while True:\n",
    "    isTrue, frame = capture.read()\n",
    "    \n",
    "    frame_resized = rescaleFrame(frame)\n",
    "    #display the vidoe frame by frame\n",
    "\n",
    "    cv.imshow(\"Video\", frame)\n",
    "    cv.imshow(\"Resized video\", frame_resized)\n",
    "\n",
    "    #to break out of the while look\n",
    "    #tells cv to wait for 20 ms for a key pass\n",
    "    #if 'd' is pressed, break the loop\n",
    "    if cv.waitKey(20) & 0xFF == ord('d'):\n",
    "        break\n",
    "\n",
    "#releases the video file so it is properly closed and does notlock the file or device\n",
    "capture.release()\n",
    "#closes all windows opened by cv\n",
    "cv.destroyAllWindows()"
   ]
  },
  {
   "cell_type": "code",
   "execution_count": 7,
   "id": "ab7ea03a",
   "metadata": {},
   "outputs": [],
   "source": [
    "#drawing and writing on image\n",
    "import numpy as np\n",
    "#create a blank image\n",
    "blank = np.zeros((500, 500, 3), dtype='uint8')\n",
    "#cv.imshow('Blank', blank)\n",
    "\n",
    "#paint the image a certain color\n",
    "#blank[200:300, 300:400] = 255, 255, 0 #\"green\"\n",
    "#cv.imshow(\"Green\", blank)\n",
    "\n",
    "#draw a rectangle\n",
    "cv.rectangle(blank, (0,0), (blank.shape[1]//2, blank.shape[0]//2), thickness=-1, color=(255, 255, 0))\n",
    "cv.imshow(\"Rectangle\", blank)\n",
    "\n",
    "#draw a circle\n",
    "cv.circle(blank, (blank.shape[1]//2, blank.shape[0]//2), 40, (0, 0, 122), thickness=-1)\n",
    "cv.imshow(\"Circle\", blank)\n",
    "\n",
    "#draw a line\n",
    "cv.line(blank, (0,0), (blank.shape[1]//2, blank.shape[0]//2), (0, 255, 0), thickness=3)\n",
    "cv.imshow(\"Line\", blank)\n",
    "\n",
    "#write text on an image\n",
    "cv.putText(blank, \"Hello World! I am Luna\", (0, 255), cv.FONT_HERSHEY_TRIPLEX, 1.0, (0, 255, 0), thickness=2)\n",
    "cv.imshow(\"Text\", blank)\n",
    "\n",
    "cv.waitKey(2000)\n",
    "cv.destroyAllWindows()"
   ]
  },
  {
   "cell_type": "code",
   "execution_count": 8,
   "id": "9b202b51",
   "metadata": {},
   "outputs": [],
   "source": [
    "#basic function in openCV\n",
    "#converting an image to greyscale \n",
    "gray = cv.cvtColor(img, cv.COLOR_BGR2GRAY)\n",
    "cv.imshow(\"Gray\", gray)\n",
    "\n",
    "#blurr and image\n",
    "blur = cv.GaussianBlur(img, (7,7), cv.BORDER_DEFAULT)\n",
    "cv.imshow(\"Blur\", blur)\n",
    "\n",
    "#find the edges in the image - edge cascade\n",
    "canny = cv.Canny(img, 125, 175)\n",
    "cv.imshow(\"Canny Edges\", canny)\n",
    "\n",
    "#dilatinf the image\n",
    "dilated = cv.dilate(canny, (7,7), iterations=3)\n",
    "cv.imshow(\"Dilated\", dilated)\n",
    "\n",
    "#eroding the image\n",
    "eroded = cv.erode(dilated, (7,7), iterations=3)\n",
    "cv.imshow('Eroded', eroded)\n",
    "\n",
    "#resize and crop\n",
    "resize = cv.resize(img, (500,500))\n",
    "cv.imshow(\"Resized\", resize)\n",
    "\n",
    "#cropped \n",
    "cropped = img[50:200, 200:400]\n",
    "cv.imshow(\"Cropped\", cropped)\n",
    " \n",
    "cv.waitKey(20000)\n",
    "cv.destroyAllWindows()"
   ]
  },
  {
   "cell_type": "code",
   "execution_count": 9,
   "id": "a8037199",
   "metadata": {},
   "outputs": [],
   "source": [
    "def translate(img, x, y):\n",
    "    #create a ttranslation matrix\n",
    "    transMat = np.float32([[1,0,x], [0,1,y]])\n",
    "    dimensions = (img.shape[1], img.shape[0])\n",
    "    return cv.warpAffine(img, transMat, dimensions)"
   ]
  },
  {
   "cell_type": "code",
   "execution_count": 10,
   "id": "49dda130",
   "metadata": {},
   "outputs": [],
   "source": [
    "translated = translate(img, -100, -100 )\n",
    "cv.imshow(\"Translated\", translated)\n",
    "\n",
    "cv.waitKey(1000)\n",
    "cv.destroyAllWindows()"
   ]
  },
  {
   "cell_type": "code",
   "execution_count": 11,
   "id": "4d7b38d1",
   "metadata": {},
   "outputs": [],
   "source": [
    "#roatetion\n",
    "def rotate(img, angle, rotPoint=None):\n",
    "    (height, width) = img.shape[:2]\n",
    "    #if rotPoint is not given, start from the center of the img\n",
    "    if rotPoint is None:\n",
    "        rotPoint = (width // 2, height // 2)\n",
    "\n",
    "    #create the rotation matrix\n",
    "    rotMat = cv.getRotationMatrix2D(rotPoint, angle, 1.0)\n",
    "    dimensions = (width, height)\n",
    "\n",
    "    return cv.warpAffine(img, rotMat, dimensions)\n",
    "\n",
    "rotated = rotate(img, 45)\n",
    "\n",
    "cv.imshow(\"Related\", rotated)\n",
    "\n",
    "cv.waitKey(1000)\n",
    "cv.destroyAllWindows()"
   ]
  },
  {
   "cell_type": "code",
   "execution_count": 12,
   "id": "7527f003",
   "metadata": {},
   "outputs": [],
   "source": [
    "#resizing\n",
    "resized = cv.resize(img, (500, 500), interpolation=cv.INTER_CUBIC)\n",
    "cv.imshow(\"Resized\", resized)\n",
    "cv.imshow(\"original\", img)\n",
    "\n",
    "#flipped\n",
    "flipped = cv.flip(img, -1) #1 horizontal flip, 0 vertical flip, -1 both\n",
    "cv.imshow(\"Flipped\", flipped)\n",
    "\n",
    "#cropped \n",
    "cropped = img[100:400, 100:400]\n",
    "cv.imshow(\"Cropped\", cropped)\n",
    "cv.waitKey(10000)\n",
    "cv.destroyAllWindows()"
   ]
  },
  {
   "cell_type": "code",
   "execution_count": 18,
   "id": "c3d1a36e",
   "metadata": {},
   "outputs": [
    {
     "name": "stdout",
     "output_type": "stream",
     "text": [
      "Number of contours found: 769\n"
     ]
    }
   ],
   "source": [
    "#contour detection\n",
    "#another way to find contours is to use a funtion\n",
    "ret, thresh = cv.threshold(gray, 125, 255, cv.THRESH_BINARY)\n",
    "\n",
    "#we usually use a cannied image to get the contour of the image\n",
    "contours, hierarchies = cv.findContours(thresh, cv.RETR_LIST, cv.CHAIN_APPROX_SIMPLE)\n",
    "#the contours are a list of all the contours found in the image\n",
    "#hierarchies are the relationships between the contours, such as parent-child relationships\n",
    "print(f\"Number of contours found: {len(contours)}\")\n",
    "\n",
    "#draw the contours over a blank image\n",
    "cv.drawContours(blank, contours, -1, (0,0,255), thickness=2) #-1 darws all the contours\n",
    "cv.imshow(\"Contours\", blank)\n",
    "\n",
    "cv.waitKey(10000)\n",
    "cv.destroyAllWindows()"
   ]
  },
  {
   "cell_type": "code",
   "execution_count": null,
   "id": "1f2556ce",
   "metadata": {},
   "outputs": [],
   "source": []
  }
 ],
 "metadata": {
  "kernelspec": {
   "display_name": "Python 3",
   "language": "python",
   "name": "python3"
  },
  "language_info": {
   "codemirror_mode": {
    "name": "ipython",
    "version": 3
   },
   "file_extension": ".py",
   "mimetype": "text/x-python",
   "name": "python",
   "nbconvert_exporter": "python",
   "pygments_lexer": "ipython3",
   "version": "3.12.1"
  }
 },
 "nbformat": 4,
 "nbformat_minor": 5
}
